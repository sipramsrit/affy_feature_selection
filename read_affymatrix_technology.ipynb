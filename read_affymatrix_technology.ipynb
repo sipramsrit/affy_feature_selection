{
 "cells": [
  {
   "cell_type": "code",
   "execution_count": 1,
   "metadata": {},
   "outputs": [],
   "source": [
    "import pandas as pd\n",
    "import numpy as np\n",
    "from sklearn.linear_model import LogisticRegression\n",
    "from sklearn.metrics import confusion_matrix\n",
    "from sklearn.metrics import classification_report\n",
    "from sklearn.metrics import average_precision_score\n",
    "from sklearn.metrics import precision_recall_curve,roc_curve,auc\n",
    "from sklearn.feature_selection import RFE"
   ]
  },
  {
   "cell_type": "code",
   "execution_count": 2,
   "metadata": {},
   "outputs": [],
   "source": [
    "def get_characterstic_cols(cols):\n",
    "    char_cols = []\n",
    "    char_cols.append(cols[1].split(':')[0].strip().strip('\"'))\n",
    "    for col in cols[1:]:\n",
    "        char_cols.append(col.split(':')[1].strip().strip('\"'))\n",
    "    return char_cols"
   ]
  },
  {
   "cell_type": "code",
   "execution_count": 3,
   "metadata": {},
   "outputs": [],
   "source": [
    "def read_header_data(headers):\n",
    "    header_df = pd.DataFrame()\n",
    "    for header in headers:\n",
    "        header_cols = header.split('\\t')\n",
    "        if(len(header_cols) < 157):\n",
    "            continue\n",
    "        if header_cols[0] == '!Sample_characteristics_ch1':\n",
    "            cols = get_characterstic_cols(header_cols)\n",
    "            header_df[cols[0]] = cols[1:]\n",
    "            header_df[cols[0]] = header_df[cols[0]].astype('category')\n",
    "            header_df[cols[0]] = header_df[cols[0]].cat.codes\n",
    "        '''else:\n",
    "            col_header = header_cols[0].replace('!Sample_','').replace('_ch1','').strip()\n",
    "            header_df[col_header] = header_cols[1:]\n",
    "            header_df[col_header] = header_df[col_header].str.strip().str.strip('\"')'''\n",
    "    return header_df   "
   ]
  },
  {
   "cell_type": "code",
   "execution_count": 4,
   "metadata": {},
   "outputs": [],
   "source": [
    "def read_series_matrix(series_matrix):\n",
    "    series_matrix_df = pd.DataFrame()\n",
    "    for line in series_matrix:\n",
    "        cols = line.split('\\t')\n",
    "        if(len(cols) < 157):\n",
    "            continue\n",
    "        col_header = cols[0].strip().strip('\"')\n",
    "        series_matrix_df[col_header] = cols[1:]\n",
    "        series_matrix_df[col_header] = series_matrix_df[col_header].str.strip().str.strip('\"')\n",
    "    return series_matrix_df   \n",
    "    "
   ]
  },
  {
   "cell_type": "code",
   "execution_count": 5,
   "metadata": {},
   "outputs": [],
   "source": [
    "def prepare_data(data):\n",
    "    data = data.sample(frac=1).reset_index(drop=True)\n",
    "    msk = np.random.rand(len(data)) <= 0.9\n",
    "    train_data = data[msk]\n",
    "    test_data = data[~msk]\n",
    "    return train_data, test_data"
   ]
  },
  {
   "cell_type": "code",
   "execution_count": 6,
   "metadata": {},
   "outputs": [],
   "source": [
    "def get_features(train_data, test_data):\n",
    "    x_train = train_data.loc[:, train_data.columns != 'tissue type']\n",
    "    x_test = test_data.loc[:, test_data.columns != 'tissue type']\n",
    "    y = train_data['tissue type'].values\n",
    "    y_out = test_data['tissue type'].values\n",
    "    return x_train, y, x_test, y_out"
   ]
  },
  {
   "cell_type": "code",
   "execution_count": 7,
   "metadata": {},
   "outputs": [],
   "source": [
    "def get_precision_recall(y_out, model_pred, model_name):\n",
    "    tn, fp, fn, tp =confusion_matrix(y_out, model_pred).ravel()\n",
    "    print(\"tp:{},fn:{}\".format(tp,fn))\n",
    "    print(\"fp:{},tn:{}\".format(fp,tn))\n",
    "    print(\"recall pos:{:0.2f}%, recall neg:{:0.2f}%\".format(100*tp/(tp+fn),100*tn/(tn+fp)))\n",
    "    print(\"precision pos:{:0.2f}%, precision neg:{:0.2f}%\".format(100*tp/(tp+fp),100*tn/(tn+fn)))\n",
    "\n",
    "    average_precision = average_precision_score(y_out, model_pred)\n",
    "    print(\"Gmean :{:0.2f}%\".format( 100*(tp/(tp+fn))*(tn/(tn+fp))))\n",
    "    print('Average precision-recall score: {0:0.2f}'.format( average_precision))\n",
    "    precision, recall, _ = precision_recall_curve(y_out, model_pred)\n",
    "\n",
    "    #plot_pr_curve(precision, recall, average_precision, model_name);\n",
    "    #plot_roc_auc(y_out, model_pred, filename, model_name);"
   ]
  },
  {
   "cell_type": "code",
   "execution_count": 8,
   "metadata": {},
   "outputs": [],
   "source": [
    "def train_test_model(model, x_train, y, x_test, y_out, model_name):\n",
    "    model.fit(x_train, y)\n",
    "    model_pred =  model.predict(x_test)\n",
    "    print('\\nConfusion matrix\\n',confusion_matrix(y_out,model_pred))\n",
    "    print(classification_report(y_out,model_pred))\n",
    "    get_precision_recall(y_out, model_pred, model_name)"
   ]
  },
  {
   "cell_type": "code",
   "execution_count": 9,
   "metadata": {},
   "outputs": [],
   "source": [
    "def feature_importance(model, x_train, y):\n",
    "    rfe = RFE(model, 3)\n",
    "    rfe = rfe.fit(x_train, y)\n",
    "    # summarize the selection of the attributes\n",
    "    \n",
    "    print(rfe.support_)\n",
    "    print(x_train.columns)\n",
    "    print(rfe.ranking_)"
   ]
  },
  {
   "cell_type": "code",
   "execution_count": 10,
   "metadata": {},
   "outputs": [],
   "source": [
    "def process_from_file(file_name):\n",
    "    count = 0\n",
    "    line = open(file_name).readlines()\n",
    "    header_df = read_header_data(line[:68])\n",
    "    series_matrix_df = read_series_matrix(line[69:100])\n",
    "\n",
    "    features_df = pd.concat([header_df, series_matrix_df], axis=1)\n",
    "    print(features_df.head(2))\n",
    "    train_data, test_data = prepare_data(features_df)\n",
    "    x_train, y, x_test, y_out = get_features(train_data, test_data)\n",
    "    print('Model: LogisticRegression')\n",
    "    lr = LogisticRegression(C=1.2, class_weight='balanced')\n",
    "    feature_importance(lr, x_train, y)\n",
    "    "
   ]
  },
  {
   "cell_type": "code",
   "execution_count": 11,
   "metadata": {},
   "outputs": [
    {
     "name": "stdout",
     "output_type": "stream",
     "text": [
      "   tissue type  cell type  overall survival  status  gender     1007_s_at  \\\n",
      "0            1          1                12       2       1   0.278536376   \n",
      "1            0          3                80       0       2  -0.005101812   \n",
      "\n",
      "        1053_at        117_at       121_at     1255_g_at      ...       \\\n",
      "0   0.460966633  -0.272634196  0.293016021   1.536637393      ...        \n",
      "1  -0.800087059  -1.059394824  0.053426368  -0.141373795      ...        \n",
      "\n",
      "     1552271_at  1552272_a_at    1552274_at  1552275_s_at  1552276_a_at  \\\n",
      "0    0.12431423  -0.013780876  -1.138924661  -1.423838841   0.539265001   \n",
      "1  -0.272252398  -0.074565112  -0.449307949  -0.518601288  -0.174576768   \n",
      "\n",
      "   1552277_a_at  1552278_a_at  1552279_a_at    1552280_at    1552281_at  \n",
      "0  -0.074060128   0.078355844  -0.036655156  -0.161718138  -0.346817575  \n",
      "1   -0.59022284  -0.411005264  -0.372878809  -0.387796987   0.129773142  \n",
      "\n",
      "[2 rows x 36 columns]\n",
      "Model: LogisticRegression\n",
      "[ True False  True False False False False False False  True False False\n",
      " False False False False False False False False False False False False\n",
      " False False False False False False False False False False False]\n",
      "Index(['cell type', 'overall survival', 'status', 'gender', '1007_s_at',\n",
      "       '1053_at', '117_at', '121_at', '1255_g_at', '1294_at', '1316_at',\n",
      "       '1320_at', '1405_i_at', '1431_at', '1438_at', '1487_at', '1494_f_at',\n",
      "       '1552256_a_at', '1552257_a_at', '1552258_at', '1552261_at',\n",
      "       '1552263_at', '1552264_a_at', '1552266_at', '1552269_at', '1552271_at',\n",
      "       '1552272_a_at', '1552274_at', '1552275_s_at', '1552276_a_at',\n",
      "       '1552277_a_at', '1552278_a_at', '1552279_a_at', '1552280_at',\n",
      "       '1552281_at'],\n",
      "      dtype='object')\n",
      "[ 1 31  1  7  5  4 21 19  8  1 24 14 18 16  2 32 22 12  3 11 17  6 20 13\n",
      " 23  9 30 29 25 33 15 28 26 27 10]\n"
     ]
    },
    {
     "name": "stderr",
     "output_type": "stream",
     "text": [
      "/Users/neelamadhav/opt/anaconda3/lib/python3.7/site-packages/sklearn/linear_model/logistic.py:433: FutureWarning: Default solver will be changed to 'lbfgs' in 0.22. Specify a solver to silence this warning.\n",
      "  FutureWarning)\n",
      "/Users/neelamadhav/opt/anaconda3/lib/python3.7/site-packages/sklearn/linear_model/logistic.py:433: FutureWarning: Default solver will be changed to 'lbfgs' in 0.22. Specify a solver to silence this warning.\n",
      "  FutureWarning)\n",
      "/Users/neelamadhav/opt/anaconda3/lib/python3.7/site-packages/sklearn/linear_model/logistic.py:433: FutureWarning: Default solver will be changed to 'lbfgs' in 0.22. Specify a solver to silence this warning.\n",
      "  FutureWarning)\n",
      "/Users/neelamadhav/opt/anaconda3/lib/python3.7/site-packages/sklearn/linear_model/logistic.py:433: FutureWarning: Default solver will be changed to 'lbfgs' in 0.22. Specify a solver to silence this warning.\n",
      "  FutureWarning)\n",
      "/Users/neelamadhav/opt/anaconda3/lib/python3.7/site-packages/sklearn/linear_model/logistic.py:433: FutureWarning: Default solver will be changed to 'lbfgs' in 0.22. Specify a solver to silence this warning.\n",
      "  FutureWarning)\n",
      "/Users/neelamadhav/opt/anaconda3/lib/python3.7/site-packages/sklearn/linear_model/logistic.py:433: FutureWarning: Default solver will be changed to 'lbfgs' in 0.22. Specify a solver to silence this warning.\n",
      "  FutureWarning)\n",
      "/Users/neelamadhav/opt/anaconda3/lib/python3.7/site-packages/sklearn/linear_model/logistic.py:433: FutureWarning: Default solver will be changed to 'lbfgs' in 0.22. Specify a solver to silence this warning.\n",
      "  FutureWarning)\n",
      "/Users/neelamadhav/opt/anaconda3/lib/python3.7/site-packages/sklearn/linear_model/logistic.py:433: FutureWarning: Default solver will be changed to 'lbfgs' in 0.22. Specify a solver to silence this warning.\n",
      "  FutureWarning)\n",
      "/Users/neelamadhav/opt/anaconda3/lib/python3.7/site-packages/sklearn/linear_model/logistic.py:433: FutureWarning: Default solver will be changed to 'lbfgs' in 0.22. Specify a solver to silence this warning.\n",
      "  FutureWarning)\n",
      "/Users/neelamadhav/opt/anaconda3/lib/python3.7/site-packages/sklearn/linear_model/logistic.py:433: FutureWarning: Default solver will be changed to 'lbfgs' in 0.22. Specify a solver to silence this warning.\n",
      "  FutureWarning)\n",
      "/Users/neelamadhav/opt/anaconda3/lib/python3.7/site-packages/sklearn/linear_model/logistic.py:433: FutureWarning: Default solver will be changed to 'lbfgs' in 0.22. Specify a solver to silence this warning.\n",
      "  FutureWarning)\n",
      "/Users/neelamadhav/opt/anaconda3/lib/python3.7/site-packages/sklearn/linear_model/logistic.py:433: FutureWarning: Default solver will be changed to 'lbfgs' in 0.22. Specify a solver to silence this warning.\n",
      "  FutureWarning)\n",
      "/Users/neelamadhav/opt/anaconda3/lib/python3.7/site-packages/sklearn/linear_model/logistic.py:433: FutureWarning: Default solver will be changed to 'lbfgs' in 0.22. Specify a solver to silence this warning.\n",
      "  FutureWarning)\n",
      "/Users/neelamadhav/opt/anaconda3/lib/python3.7/site-packages/sklearn/linear_model/logistic.py:433: FutureWarning: Default solver will be changed to 'lbfgs' in 0.22. Specify a solver to silence this warning.\n",
      "  FutureWarning)\n",
      "/Users/neelamadhav/opt/anaconda3/lib/python3.7/site-packages/sklearn/linear_model/logistic.py:433: FutureWarning: Default solver will be changed to 'lbfgs' in 0.22. Specify a solver to silence this warning.\n",
      "  FutureWarning)\n",
      "/Users/neelamadhav/opt/anaconda3/lib/python3.7/site-packages/sklearn/linear_model/logistic.py:433: FutureWarning: Default solver will be changed to 'lbfgs' in 0.22. Specify a solver to silence this warning.\n",
      "  FutureWarning)\n",
      "/Users/neelamadhav/opt/anaconda3/lib/python3.7/site-packages/sklearn/linear_model/logistic.py:433: FutureWarning: Default solver will be changed to 'lbfgs' in 0.22. Specify a solver to silence this warning.\n",
      "  FutureWarning)\n",
      "/Users/neelamadhav/opt/anaconda3/lib/python3.7/site-packages/sklearn/linear_model/logistic.py:433: FutureWarning: Default solver will be changed to 'lbfgs' in 0.22. Specify a solver to silence this warning.\n",
      "  FutureWarning)\n",
      "/Users/neelamadhav/opt/anaconda3/lib/python3.7/site-packages/sklearn/linear_model/logistic.py:433: FutureWarning: Default solver will be changed to 'lbfgs' in 0.22. Specify a solver to silence this warning.\n",
      "  FutureWarning)\n",
      "/Users/neelamadhav/opt/anaconda3/lib/python3.7/site-packages/sklearn/linear_model/logistic.py:433: FutureWarning: Default solver will be changed to 'lbfgs' in 0.22. Specify a solver to silence this warning.\n",
      "  FutureWarning)\n",
      "/Users/neelamadhav/opt/anaconda3/lib/python3.7/site-packages/sklearn/linear_model/logistic.py:433: FutureWarning: Default solver will be changed to 'lbfgs' in 0.22. Specify a solver to silence this warning.\n",
      "  FutureWarning)\n",
      "/Users/neelamadhav/opt/anaconda3/lib/python3.7/site-packages/sklearn/linear_model/logistic.py:433: FutureWarning: Default solver will be changed to 'lbfgs' in 0.22. Specify a solver to silence this warning.\n",
      "  FutureWarning)\n",
      "/Users/neelamadhav/opt/anaconda3/lib/python3.7/site-packages/sklearn/linear_model/logistic.py:433: FutureWarning: Default solver will be changed to 'lbfgs' in 0.22. Specify a solver to silence this warning.\n",
      "  FutureWarning)\n",
      "/Users/neelamadhav/opt/anaconda3/lib/python3.7/site-packages/sklearn/linear_model/logistic.py:433: FutureWarning: Default solver will be changed to 'lbfgs' in 0.22. Specify a solver to silence this warning.\n",
      "  FutureWarning)\n",
      "/Users/neelamadhav/opt/anaconda3/lib/python3.7/site-packages/sklearn/linear_model/logistic.py:433: FutureWarning: Default solver will be changed to 'lbfgs' in 0.22. Specify a solver to silence this warning.\n",
      "  FutureWarning)\n",
      "/Users/neelamadhav/opt/anaconda3/lib/python3.7/site-packages/sklearn/linear_model/logistic.py:433: FutureWarning: Default solver will be changed to 'lbfgs' in 0.22. Specify a solver to silence this warning.\n",
      "  FutureWarning)\n",
      "/Users/neelamadhav/opt/anaconda3/lib/python3.7/site-packages/sklearn/linear_model/logistic.py:433: FutureWarning: Default solver will be changed to 'lbfgs' in 0.22. Specify a solver to silence this warning.\n",
      "  FutureWarning)\n",
      "/Users/neelamadhav/opt/anaconda3/lib/python3.7/site-packages/sklearn/linear_model/logistic.py:433: FutureWarning: Default solver will be changed to 'lbfgs' in 0.22. Specify a solver to silence this warning.\n",
      "  FutureWarning)\n",
      "/Users/neelamadhav/opt/anaconda3/lib/python3.7/site-packages/sklearn/linear_model/logistic.py:433: FutureWarning: Default solver will be changed to 'lbfgs' in 0.22. Specify a solver to silence this warning.\n",
      "  FutureWarning)\n",
      "/Users/neelamadhav/opt/anaconda3/lib/python3.7/site-packages/sklearn/linear_model/logistic.py:433: FutureWarning: Default solver will be changed to 'lbfgs' in 0.22. Specify a solver to silence this warning.\n",
      "  FutureWarning)\n",
      "/Users/neelamadhav/opt/anaconda3/lib/python3.7/site-packages/sklearn/linear_model/logistic.py:433: FutureWarning: Default solver will be changed to 'lbfgs' in 0.22. Specify a solver to silence this warning.\n",
      "  FutureWarning)\n",
      "/Users/neelamadhav/opt/anaconda3/lib/python3.7/site-packages/sklearn/linear_model/logistic.py:433: FutureWarning: Default solver will be changed to 'lbfgs' in 0.22. Specify a solver to silence this warning.\n",
      "  FutureWarning)\n",
      "/Users/neelamadhav/opt/anaconda3/lib/python3.7/site-packages/sklearn/linear_model/logistic.py:433: FutureWarning: Default solver will be changed to 'lbfgs' in 0.22. Specify a solver to silence this warning.\n",
      "  FutureWarning)\n"
     ]
    }
   ],
   "source": [
    "process_from_file('GSE19188_series_matrix.txt')"
   ]
  }
 ],
 "metadata": {
  "kernelspec": {
   "display_name": "Python 3",
   "language": "python",
   "name": "python3"
  },
  "language_info": {
   "codemirror_mode": {
    "name": "ipython",
    "version": 3
   },
   "file_extension": ".py",
   "mimetype": "text/x-python",
   "name": "python",
   "nbconvert_exporter": "python",
   "pygments_lexer": "ipython3",
   "version": "3.7.4"
  }
 },
 "nbformat": 4,
 "nbformat_minor": 2
}
